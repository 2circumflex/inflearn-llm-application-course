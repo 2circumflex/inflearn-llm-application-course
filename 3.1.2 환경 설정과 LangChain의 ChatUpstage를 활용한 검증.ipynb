{
 "cells": [
  {
   "cell_type": "code",
   "execution_count": 1,
   "id": "52eaec7d",
   "metadata": {},
   "outputs": [
    {
     "name": "stdout",
     "output_type": "stream",
     "text": [
      "\u001b[2K\u001b[2mResolved \u001b[1m74 packages\u001b[0m \u001b[2min 171ms\u001b[0m\u001b[0m                                        \u001b[0m\n",
      "\u001b[2K\u001b[37m⠙\u001b[0m \u001b[2mPreparing packages...\u001b[0m (0/7)                                                   \n",
      "\u001b[2K\u001b[1A\u001b[37m⠙\u001b[0m \u001b[2mPreparing packages...\u001b[0m (0/7)--------------\u001b[0m\u001b[0m     0 B/19.88 KiB           \u001b[1A\n",
      "\u001b[2K\u001b[1A\u001b[37m⠙\u001b[0m \u001b[2mPreparing packages...\u001b[0m (0/7)--------------\u001b[0m\u001b[0m     0 B/19.88 KiB           \u001b[1A\n",
      "\u001b[2mlangchain-upstage   \u001b[0m \u001b[32m\u001b[2m------------------------------\u001b[0m\u001b[0m     0 B/19.88 KiB\n",
      "\u001b[2K\u001b[2A\u001b[37m⠙\u001b[0m \u001b[2mPreparing packages...\u001b[0m (0/7)--------------\u001b[0m\u001b[0m     0 B/548.29 KiB          \u001b[2A\n",
      "\u001b[2mlangchain-upstage   \u001b[0m \u001b[32m\u001b[2m------------------------------\u001b[0m\u001b[0m     0 B/19.88 KiB\n",
      "\u001b[2K\u001b[2A\u001b[37m⠙\u001b[0m \u001b[2mPreparing packages...\u001b[0m (0/7)--------------\u001b[0m\u001b[0m 14.88 KiB/548.29 KiB        \u001b[2A\n",
      "\u001b[2mlangchain-upstage   \u001b[0m \u001b[32m-------------------------\u001b[2m-----\u001b[0m\u001b[0m 16.00 KiB/19.88 KiB\n",
      "\u001b[2K\u001b[2A\u001b[37m⠙\u001b[0m \u001b[2mPreparing packages...\u001b[0m (0/7)--------------\u001b[0m\u001b[0m 14.88 KiB/548.29 KiB        \u001b[2A\n",
      "\u001b[2mlangchain-upstage   \u001b[0m \u001b[32m------------------------------\u001b[2m\u001b[0m\u001b[0m 19.88 KiB/19.88 KiB\n",
      "\u001b[2K\u001b[2A\u001b[37m⠙\u001b[0m \u001b[2mPreparing packages...\u001b[0m (0/7)--------------\u001b[0m\u001b[0m 14.88 KiB/548.29 KiB        \u001b[2A\n",
      "\u001b[2K\u001b[1A\u001b[37m⠙\u001b[0m \u001b[2mPreparing packages...\u001b[0m (0/7)--------------\u001b[0m\u001b[0m 14.88 KiB/548.29 KiB        \u001b[1A\n",
      "\u001b[2K\u001b[1A\u001b[37m⠙\u001b[0m \u001b[2mPreparing packages...\u001b[0m (0/7)--------------\u001b[0m\u001b[0m 30.88 KiB/548.29 KiB        \u001b[1A\n",
      "\u001b[2K\u001b[1A\u001b[37m⠙\u001b[0m \u001b[2mPreparing packages...\u001b[0m (0/7)--------------\u001b[0m\u001b[0m 46.88 KiB/548.29 KiB        \u001b[1A\n",
      "\u001b[2K\u001b[1A\u001b[37m⠙\u001b[0m \u001b[2mPreparing packages...\u001b[0m (0/7)--------------\u001b[0m\u001b[0m 62.88 KiB/548.29 KiB        \u001b[1A\n",
      "\u001b[2K\u001b[1A\u001b[37m⠙\u001b[0m \u001b[2mPreparing packages...\u001b[0m (0/7)--------------\u001b[0m\u001b[0m 62.88 KiB/548.29 KiB        \u001b[1A\n",
      "\u001b[2mfsspec              \u001b[0m \u001b[32m\u001b[2m------------------------------\u001b[0m\u001b[0m     0 B/194.92 KiB\n",
      "\u001b[2K\u001b[2A\u001b[37m⠙\u001b[0m \u001b[2mPreparing packages...\u001b[0m (0/7)--------------\u001b[0m\u001b[0m 62.88 KiB/548.29 KiB        \u001b[2A\n",
      "\u001b[2mfsspec              \u001b[0m \u001b[32m\u001b[2m------------------------------\u001b[0m\u001b[0m     0 B/194.92 KiB\n",
      "\u001b[2K\u001b[2A\u001b[37m⠙\u001b[0m \u001b[2mPreparing packages...\u001b[0m (0/7)--------------\u001b[0m\u001b[0m 62.88 KiB/548.29 KiB        \u001b[2A\n",
      "\u001b[2mfsspec              \u001b[0m \u001b[32m\u001b[2m------------------------------\u001b[0m\u001b[0m     0 B/194.92 KiB\n",
      "\u001b[2K\u001b[2A\u001b[37m⠙\u001b[0m \u001b[2mPreparing packages...\u001b[0m (0/7)--------------\u001b[0m\u001b[0m 62.88 KiB/548.29 KiB        \u001b[2A\n",
      "\u001b[2mfilelock            \u001b[0m \u001b[32m\u001b[2m------------------------------\u001b[0m\u001b[0m     0 B/15.83 KiB\n",
      "\u001b[2mfsspec              \u001b[0m \u001b[32m\u001b[2m------------------------------\u001b[0m\u001b[0m     0 B/194.92 KiB\n",
      "\u001b[2K\u001b[3A\u001b[37m⠙\u001b[0m \u001b[2mPreparing packages...\u001b[0m (0/7)--------------\u001b[0m\u001b[0m 62.88 KiB/548.29 KiB        \u001b[3A\n",
      "\u001b[2mfilelock            \u001b[0m \u001b[32m\u001b[2m------------------------------\u001b[0m\u001b[0m     0 B/15.83 KiB\n",
      "\u001b[2mfsspec              \u001b[0m \u001b[32m\u001b[2m------------------------------\u001b[0m\u001b[0m     0 B/194.92 KiB\n",
      "\u001b[2K\u001b[3A\u001b[37m⠙\u001b[0m \u001b[2mPreparing packages...\u001b[0m (0/7)--------------\u001b[0m\u001b[0m 62.88 KiB/548.29 KiB        \u001b[3A\n",
      "\u001b[2mfilelock            \u001b[0m \u001b[32m\u001b[2m------------------------------\u001b[0m\u001b[0m     0 B/15.83 KiB\n",
      "\u001b[2mfsspec              \u001b[0m \u001b[32m\u001b[2m------------------------------\u001b[0m\u001b[0m     0 B/194.92 KiB\n",
      "\u001b[2K\u001b[3A\u001b[37m⠙\u001b[0m \u001b[2mPreparing packages...\u001b[0m (0/7)--------------\u001b[0m\u001b[0m 62.88 KiB/548.29 KiB        \u001b[3A\n",
      "\u001b[2mfilelock            \u001b[0m \u001b[32m\u001b[2m------------------------------\u001b[0m\u001b[0m     0 B/15.83 KiB\n",
      "\u001b[2mfsspec              \u001b[0m \u001b[32m\u001b[2m------------------------------\u001b[0m\u001b[0m     0 B/194.92 KiB\n",
      "\u001b[2K\u001b[3A\u001b[37m⠙\u001b[0m \u001b[2mPreparing packages...\u001b[0m (0/7)--------------\u001b[0m\u001b[0m 62.88 KiB/548.29 KiB        \u001b[3A\n",
      "\u001b[2mfsspec              \u001b[0m \u001b[32m---\u001b[2m---------------------------\u001b[0m\u001b[0m 16.00 KiB/194.92 KiB\n",
      "\u001b[2mpypdf               \u001b[0m \u001b[32m--\u001b[2m----------------------------\u001b[0m\u001b[0m 16.00 KiB/288.89 KiB\n",
      "\u001b[2mhuggingface-hub     \u001b[0m \u001b[32m---------\u001b[2m---------------------\u001b[0m\u001b[0m 155.76 KiB/548.29 KiB\n",
      "\u001b[2mtokenizers          \u001b[0m \u001b[32m-\u001b[2m-----------------------------\u001b[0m\u001b[0m 16.00 KiB/2.44 MiB\n",
      "\u001b[2K\u001b[5A\u001b[37m⠙\u001b[0m \u001b[2mPreparing packages...\u001b[0m (0/7)--------------\u001b[0m\u001b[0m 16.00 KiB/2.50 MiB          \u001b[5A\n",
      "\u001b[2mfsspec              \u001b[0m \u001b[32m---------------\u001b[2m---------------\u001b[0m\u001b[0m 95.81 KiB/194.92 KiB\n",
      "\u001b[2mpypdf               \u001b[0m \u001b[32m-------\u001b[2m-----------------------\u001b[0m\u001b[0m 61.17 KiB/288.89 KiB\n",
      "\u001b[2mhuggingface-hub     \u001b[0m \u001b[32m--------------\u001b[2m----------------\u001b[0m\u001b[0m 254.48 KiB/548.29 KiB\n",
      "\u001b[2mtokenizers          \u001b[0m \u001b[32m--\u001b[2m----------------------------\u001b[0m\u001b[0m 128.00 KiB/2.44 MiB\n",
      "\u001b[2K\u001b[5A\u001b[37m⠙\u001b[0m \u001b[2mPreparing packages...\u001b[0m (0/7)--------------\u001b[0m\u001b[0m 96.00 KiB/2.50 MiB          \u001b[5A\n",
      "\u001b[2mpypdf               \u001b[0m \u001b[32m-------------\u001b[2m-----------------\u001b[0m\u001b[0m 122.34 KiB/288.89 KiB\n",
      "\u001b[2mhuggingface-hub     \u001b[0m \u001b[32m-------------------\u001b[2m-----------\u001b[0m\u001b[0m 335.76 KiB/548.29 KiB\n",
      "\u001b[2mtokenizers          \u001b[0m \u001b[32m-----\u001b[2m-------------------------\u001b[0m\u001b[0m 336.00 KiB/2.44 MiB\n",
      "\u001b[2K\u001b[4A\u001b[37m⠙\u001b[0m \u001b[2mPreparing packages...\u001b[0m (0/7)--------------\u001b[0m\u001b[0m 258.72 KiB/2.50 MiB         \u001b[4A\n",
      "\u001b[2mpypdf               \u001b[0m \u001b[32m-------------\u001b[2m-----------------\u001b[0m\u001b[0m 122.34 KiB/288.89 KiB\n",
      "\u001b[2mtokenizers          \u001b[0m \u001b[32m-------------\u001b[2m-----------------\u001b[0m\u001b[0m 1.02 MiB/2.44 MiB\n",
      "\u001b[2K\u001b[3A\u001b[37m⠙\u001b[0m \u001b[2mPreparing packages...\u001b[0m (0/7)m-------------\u001b[0m\u001b[0m 1.38 MiB/2.50 MiB           \u001b[3A\n",
      "\u001b[2mpypdf               \u001b[0m \u001b[32m---------------\u001b[2m---------------\u001b[0m\u001b[0m 138.34 KiB/288.89 KiB\n",
      "\u001b[2mtokenizers          \u001b[0m \u001b[32m---------------\u001b[2m---------------\u001b[0m\u001b[0m 1.16 MiB/2.44 MiB\n",
      "\u001b[2K\u001b[3A\u001b[37m⠙\u001b[0m \u001b[2mPreparing packages...\u001b[0m (0/7)-\u001b[2m---------\u001b[0m\u001b[0m 1.70 MiB/2.50 MiB           \u001b[3A\n",
      "\u001b[2mpypdf               \u001b[0m \u001b[32m---------------\u001b[2m---------------\u001b[0m\u001b[0m 138.34 KiB/288.89 KiB\n",
      "\u001b[2K\u001b[2A\u001b[37m⠙\u001b[0m \u001b[2mPreparing packages...\u001b[0m (0/7)----------\u001b[2m\u001b[0m\u001b[0m 2.47 MiB/2.50 MiB           \u001b[2A\n",
      "\u001b[2K\u001b[2mPrepared \u001b[1m7 packages\u001b[0m \u001b[2min 126ms\u001b[0m\u001b[0m                                                 \u001b[1A\n",
      "\u001b[2K\u001b[2mInstalled \u001b[1m7 packages\u001b[0m \u001b[2min 8ms\u001b[0m\u001b[0m4.4                              \u001b[0m\n",
      " \u001b[32m+\u001b[39m \u001b[1mfilelock\u001b[0m\u001b[2m==3.18.0\u001b[0m\n",
      " \u001b[32m+\u001b[39m \u001b[1mfsspec\u001b[0m\u001b[2m==2025.7.0\u001b[0m\n",
      " \u001b[32m+\u001b[39m \u001b[1mhf-xet\u001b[0m\u001b[2m==1.1.7\u001b[0m\n",
      " \u001b[32m+\u001b[39m \u001b[1mhuggingface-hub\u001b[0m\u001b[2m==0.34.4\u001b[0m\n",
      " \u001b[32m+\u001b[39m \u001b[1mlangchain-upstage\u001b[0m\u001b[2m==0.7.1\u001b[0m\n",
      " \u001b[32m+\u001b[39m \u001b[1mpypdf\u001b[0m\u001b[2m==4.3.1\u001b[0m\n",
      " \u001b[32m+\u001b[39m \u001b[1mtokenizers\u001b[0m\u001b[2m==0.20.3\u001b[0m\n"
     ]
    }
   ],
   "source": [
    "!uv add python-dotenv langchain-upstage"
   ]
  },
  {
   "cell_type": "code",
   "execution_count": 1,
   "id": "beee99ec",
   "metadata": {},
   "outputs": [
    {
     "data": {
      "text/plain": [
       "True"
      ]
     },
     "execution_count": 1,
     "metadata": {},
     "output_type": "execute_result"
    }
   ],
   "source": [
    "from dotenv import load_dotenv\n",
    "\n",
    "load_dotenv()"
   ]
  },
  {
   "cell_type": "code",
   "execution_count": 3,
   "id": "4c3337db",
   "metadata": {},
   "outputs": [
    {
     "name": "stdout",
     "output_type": "stream",
     "text": [
      "인프런은 다양한 분야의 온라인 강의 플랫폼을 제공하고 있습니다. 주요 카테고리는 다음과 같습니다:\n",
      "\n",
      "1. **프로그래밍**: 웹 개발, 모바일 개발, 데이터 과학, 인공지능, 클라우드 컴퓨팅 등 다양한 프로그래밍 언어와 기술을 배울 수 있는 강의가 있습니다.\n",
      "\n",
      "2. **디자인**: UX/UI 디자인, 그래픽 디자인, 웹 디자인, 브랜딩 등 디자인 관련 강의가 제공됩니다.\n",
      "\n",
      "3. **비즈니스**: 프로젝트 관리, 마케팅, 경영 전략, 리더십 등 비즈니스 관련 주제를 다루는 강의가 있습니다.\n",
      "\n",
      "4. **데이터 분석**: 데이터 분석, 통계학, 데이터 시각화 등 데이터를 다루는 기술을 배울 수 있는 강의가 있습니다.\n",
      "\n",
      "5. **기타**: 사진술, 음악, 언어 학습 등 다양한 분야의 강의도 제공됩니다.\n",
      "\n",
      "인프런에서는 각 분야의 전문가들이 제공하는 다양한 수준의 강의를 찾을 수 있으며, 초보자부터 고급 사용자까지 다양한 학습 요구를 충족시킬 수 있습니다. 특정 주제에 대한 강의를 찾고 싶으시다면 인프런 웹사이트나 앱을 통해 검색해 보시는 것이 좋습니다.\n"
     ]
    }
   ],
   "source": [
    "from langchain_upstage import ChatUpstage\n",
    "\n",
    "llm = ChatUpstage()\n",
    "ai_message = llm.invoke(\"인프런에 어떤 강의가 있나요?\")\n",
    "print(ai_message.content)"
   ]
  }
 ],
 "metadata": {
  "kernelspec": {
   "display_name": ".venv",
   "language": "python",
   "name": "python3"
  },
  "language_info": {
   "codemirror_mode": {
    "name": "ipython",
    "version": 3
   },
   "file_extension": ".py",
   "mimetype": "text/x-python",
   "name": "python",
   "nbconvert_exporter": "python",
   "pygments_lexer": "ipython3",
   "version": "3.13.5"
  }
 },
 "nbformat": 4,
 "nbformat_minor": 5
}
